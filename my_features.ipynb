{
 "cells": [
  {
   "cell_type": "code",
   "execution_count": 1,
   "id": "def35fea",
   "metadata": {},
   "outputs": [],
   "source": [
    "import numpy as np"
   ]
  },
  {
   "cell_type": "markdown",
   "id": "8bee64f0",
   "metadata": {},
   "source": [
    "## Получение изображения"
   ]
  },
  {
   "cell_type": "code",
   "execution_count": null,
   "id": "19f964e6",
   "metadata": {},
   "outputs": [],
   "source": []
  },
  {
   "cell_type": "markdown",
   "id": "cb9c10a9",
   "metadata": {},
   "source": [
    "## Гистаграммные признаки"
   ]
  },
  {
   "cell_type": "code",
   "execution_count": 2,
   "id": "336c624e",
   "metadata": {},
   "outputs": [],
   "source": [
    "def mean(hist):\n",
    "    mean=0\n",
    "    for i in range (len(hist)):\n",
    "        mean += (i+1) * hist[i]\n",
    "    return mean\n",
    "\n",
    "def varinace(hist):\n",
    "    variance, mean = 0, mean(hist)\n",
    "    for i in range (len(hist)):\n",
    "        variance += (((i+1) - mean)**2) * hist[i]\n",
    "    return variance\n",
    "\n",
    "def skewness(hist):\n",
    "    skew, mean, var = 0, mean(hist), varinace(hist)\n",
    "    for i in range(len(hist)):\n",
    "        skew += (((i+1) - mean)**3) * hist[i]\n",
    "    return skew/(var**3)\n",
    "\n",
    "def kurtosis(hist):\n",
    "    kurt, mean, var = 0, mean(hist), varinace(hist)\n",
    "    for i in range(len(hist)):\n",
    "        kurt += (((i+1) - mean)**4) * hist[i]\n",
    "    return kurt/(var**4) - 3\n",
    "\n",
    "def perc(hist, n):\n",
    "    perc = 0\n",
    "    hist_val = 0\n",
    "    while hist_val < n:\n",
    "        hist_val += hist[perc]\n",
    "        perc += 1\n",
    "    return perc\n"
   ]
  },
  {
   "cell_type": "markdown",
   "id": "c5821636",
   "metadata": {},
   "source": [
    "## Градиентные параметры"
   ]
  },
  {
   "cell_type": "code",
   "execution_count": null,
   "id": "4bf2b635",
   "metadata": {},
   "outputs": [],
   "source": [
    "def absolute_gradient(image, neighborhood_size = 3):\n",
    "    width, height = image.shape\n",
    "    slice = neighborhood_size // 2\n",
    "    grad = np.zeros((width - slice*2, height - slice*2))\n",
    "    for i in range(slice, height - slice):\n",
    "        for j in range(slice, width - slice):\n",
    "            grad[i - slice][j - slice] = ((image[i + slice][j]**2 - image[i - slice][j]**2) + \n",
    "                                          (image[i][j + slice]**2 - image[i][j - slice]**2))**0.5\n",
    "    \n",
    "    return grad\n",
    "\n",
    "def absolute_gradient_mean(grad):\n",
    "    return np.mean(grad)\n",
    "\n",
    "def absolute_gradient_variance(grad):\n",
    "    return np.var(grad)\n",
    "\n",
    "def absolute_gradient_skewness(grad):\n",
    "    skew = 0\n",
    "    mean = absolute_gradient_mean(grad)\n",
    "    var = absolute_gradient_variance(grad)\n",
    "    for i in range(len(grad)):\n",
    "        for j in range(len(grad[i])):\n",
    "            skew += (grad[i][j] - mean)**3\n",
    "    return skew/(grad.size*(var)**3)\n",
    "\n",
    "def absolute_gradient_kurtosis(grad):\n",
    "    kurt = 0\n",
    "    mean = absolute_gradient_mean(grad)\n",
    "    var = absolute_gradient_variance(grad)\n",
    "    for i in range(len(grad)):\n",
    "        for j in range(len(grad[i])):\n",
    "            kurt += (grad[i][j] - mean)**4\n",
    "    return kurt/(grad.size*(var)**4) - 3"
   ]
  },
  {
   "cell_type": "markdown",
   "id": "6ccd7734",
   "metadata": {},
   "source": [
    "## Признаки Харалика"
   ]
  },
  {
   "cell_type": "code",
   "execution_count": null,
   "id": "f0c379a5",
   "metadata": {},
   "outputs": [],
   "source": [
    "def coocurrence_matrix(image, dx, dy, levels = 256):\n",
    "    width, height = image.shape\n",
    "    matrix = np.zeros((levels, levels))\n",
    "    pairs_sum = 0\n",
    "    if levels != 256:\n",
    "        pass            # TODO: квантизация изображения\n",
    "    else:\n",
    "        for i in range(max(0,-dy), height - max(0, dy)):\n",
    "            for j in range(max(0, -dx), width - max(0, dx)):\n",
    "                a = image[i][j]\n",
    "                b = image[i + dy][j + dx]\n",
    "                matrix[a][b] += 1\n",
    "                matrix[b][a] += 1\n",
    "                pairs_sum += 1\n",
    "\n",
    "        if pairs_sum:\n",
    "            matrix = matrix / (pairs_sum * 2)\n",
    "    return matrix\n",
    "\n",
    "def angular_second_moment(matrix):\n",
    "    angsecmom = 0\n",
    "    for i in range(len(matrix)):\n",
    "        for j in range(len(matrix[i])):\n",
    "            angsecmom += matrix[i][j]**2\n",
    "    return angsecmom\n",
    "\n",
    "def contrast(matrix):\n",
    "    contrast = 0\n",
    "    for i in range(len(matrix)):\n",
    "        for j in range(len(matrix[i])):\n",
    "            contrast += matrix[i][j]*((i-j)**2)\n",
    "    return contrast\n",
    "\n",
    "def "
   ]
  }
 ],
 "metadata": {
  "kernelspec": {
   "display_name": ".venv",
   "language": "python",
   "name": "python3"
  },
  "language_info": {
   "codemirror_mode": {
    "name": "ipython",
    "version": 3
   },
   "file_extension": ".py",
   "mimetype": "text/x-python",
   "name": "python",
   "nbconvert_exporter": "python",
   "pygments_lexer": "ipython3",
   "version": "3.12.0"
  }
 },
 "nbformat": 4,
 "nbformat_minor": 5
}
